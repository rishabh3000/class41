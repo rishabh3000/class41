{
 "cells": [
  {
   "cell_type": "code",
   "execution_count": 7,
   "metadata": {},
   "outputs": [
    {
     "name": "stdout",
     "output_type": "stream",
     "text": [
      "enter the value: 6\n",
      "THIS IS a: 6\n"
     ]
    }
   ],
   "source": [
    "a=int(input(\"enter the value: \"))\n",
    "print(f\"THIS IS a: {a}\")"
   ]
  },
  {
   "cell_type": "code",
   "execution_count": 8,
   "metadata": {},
   "outputs": [
    {
     "name": "stdout",
     "output_type": "stream",
     "text": [
      "enter the number10\n",
      "square of a,100\n"
     ]
    }
   ],
   "source": [
    "a=int(input(\"enter the number\"))\n",
    "square = a*a\n",
    "print(f\"square of a,{square}\")\n"
   ]
  },
  {
   "cell_type": "code",
   "execution_count": 9,
   "metadata": {},
   "outputs": [],
   "source": [
    "def square(m):\n",
    "    return m*m\n",
    "\n"
   ]
  },
  {
   "cell_type": "code",
   "execution_count": 11,
   "metadata": {},
   "outputs": [
    {
     "name": "stdout",
     "output_type": "stream",
     "text": [
      "100\n"
     ]
    }
   ],
   "source": [
    "print(square(10))"
   ]
  },
  {
   "cell_type": "code",
   "execution_count": 16,
   "metadata": {},
   "outputs": [],
   "source": [
    "def cube(m):\n",
    "    print(m*m*m)\n"
   ]
  },
  {
   "cell_type": "code",
   "execution_count": 17,
   "metadata": {},
   "outputs": [
    {
     "name": "stdout",
     "output_type": "stream",
     "text": [
      "1000\n"
     ]
    }
   ],
   "source": [
    "cube(10)"
   ]
  },
  {
   "cell_type": "code",
   "execution_count": 18,
   "metadata": {},
   "outputs": [],
   "source": [
    "def name(a,b):\n",
    "    return a*b\n",
    "    "
   ]
  },
  {
   "cell_type": "code",
   "execution_count": 22,
   "metadata": {},
   "outputs": [
    {
     "name": "stdout",
     "output_type": "stream",
     "text": [
      " raja  raja  raja  raja  raja  raja  raja  raja  raja  raja  raja  raja  raja  raja  raja  raja  raja  raja  raja  raja  raja  raja  raja  raja  raja  raja  raja  raja  raja  raja  raja  raja  raja  raja  raja  raja  raja  raja  raja  raja  raja  raja  raja  raja  raja  raja  raja  raja  raja  raja  raja  raja  raja  raja  raja  raja  raja  raja  raja  raja  raja  raja  raja  raja  raja  raja  raja  raja  raja  raja  raja  raja  raja  raja  raja  raja  raja  raja  raja  raja  raja  raja  raja  raja  raja  raja  raja  raja  raja  raja  raja  raja  raja  raja  raja  raja  raja  raja  raja  raja \n"
     ]
    }
   ],
   "source": [
    "print(name(\" raja \" ,100))"
   ]
  },
  {
   "cell_type": "code",
   "execution_count": 23,
   "metadata": {},
   "outputs": [
    {
     "name": "stdout",
     "output_type": "stream",
     "text": [
      " raja  raja  raja  raja  raja  raja  raja  raja  raja  raja  raja  raja  raja  raja  raja  raja  raja  raja  raja  raja  raja  raja  raja  raja  raja  raja  raja  raja  raja  raja  raja  raja  raja  raja  raja  raja  raja  raja  raja  raja  raja  raja  raja  raja  raja  raja  raja  raja  raja  raja \n"
     ]
    }
   ],
   "source": [
    "def name(a,b):\n",
    "    print(a*b)\n",
    "   \n",
    "name(\" raja \",50)\n",
    "\n",
    "    "
   ]
  },
  {
   "cell_type": "code",
   "execution_count": null,
   "metadata": {},
   "outputs": [
    {
     "name": "stdout",
     "output_type": "stream",
     "text": [
      "3\n",
      "10 20 30 0 29 30\n",
      "1\n",
      "0 0 0 0 0 1\n",
      "2\n",
      "1 1 1 0 0 0\n",
      "1\n"
     ]
    }
   ],
   "source": [
    "\n",
    "def olympics():\n",
    "    g1, s1, b1, g2, s2, b2 = input().split()\n",
    "\n",
    "    if(int(g1) + int(s1) + int(b1) > int(g2) + int(s2) + int(b2)):\n",
    "        print(\"1\")\n",
    "    else:\n",
    "        print(\"2\")\n",
    "\n",
    "\n",
    "t = int(input())\n",
    "while(t != 0):\n",
    "    olympics()\n",
    "    t-=1"
   ]
  },
  {
   "cell_type": "code",
   "execution_count": null,
   "metadata": {},
   "outputs": [],
   "source": []
  }
 ],
 "metadata": {
  "kernelspec": {
   "display_name": "Python 3",
   "language": "python",
   "name": "python3"
  },
  "language_info": {
   "codemirror_mode": {
    "name": "ipython",
    "version": 3
   },
   "file_extension": ".py",
   "mimetype": "text/x-python",
   "name": "python",
   "nbconvert_exporter": "python",
   "pygments_lexer": "ipython3",
   "version": "3.8.3"
  }
 },
 "nbformat": 4,
 "nbformat_minor": 4
}
